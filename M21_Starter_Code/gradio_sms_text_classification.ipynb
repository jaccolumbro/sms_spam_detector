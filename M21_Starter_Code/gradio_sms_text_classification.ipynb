{
  "cells": [
    {
      "cell_type": "code",
      "execution_count": 1,
      "metadata": {
        "colab": {
          "base_uri": "https://localhost:8080/"
        },
        "id": "cqQ3tXv2zEkN",
        "outputId": "006b5361-f5c1-4f6d-a629-f37efd666510"
      },
      "outputs": [
        {
          "name": "stdout",
          "output_type": "stream",
          "text": [
            "Requirement already satisfied: gradio in c:\\users\\owner\\anaconda3\\envs\\dev\\lib\\site-packages (4.37.2)\n",
            "Requirement already satisfied: aiofiles<24.0,>=22.0 in c:\\users\\owner\\anaconda3\\envs\\dev\\lib\\site-packages (from gradio) (22.1.0)\n",
            "Requirement already satisfied: altair<6.0,>=4.2.0 in c:\\users\\owner\\anaconda3\\envs\\dev\\lib\\site-packages (from gradio) (5.3.0)\n",
            "Requirement already satisfied: fastapi in c:\\users\\owner\\anaconda3\\envs\\dev\\lib\\site-packages (from gradio) (0.111.0)\n",
            "Requirement already satisfied: ffmpy in c:\\users\\owner\\anaconda3\\envs\\dev\\lib\\site-packages (from gradio) (0.3.2)\n",
            "Requirement already satisfied: gradio-client==1.0.2 in c:\\users\\owner\\anaconda3\\envs\\dev\\lib\\site-packages (from gradio) (1.0.2)\n",
            "Requirement already satisfied: httpx>=0.24.1 in c:\\users\\owner\\anaconda3\\envs\\dev\\lib\\site-packages (from gradio) (0.27.0)\n",
            "Requirement already satisfied: huggingface-hub>=0.19.3 in c:\\users\\owner\\anaconda3\\envs\\dev\\lib\\site-packages (from gradio) (0.23.4)\n",
            "Requirement already satisfied: importlib-resources<7.0,>=1.3 in c:\\users\\owner\\anaconda3\\envs\\dev\\lib\\site-packages (from gradio) (6.4.0)\n",
            "Requirement already satisfied: jinja2<4.0 in c:\\users\\owner\\anaconda3\\envs\\dev\\lib\\site-packages (from gradio) (3.1.2)\n",
            "Requirement already satisfied: markupsafe~=2.0 in c:\\users\\owner\\anaconda3\\envs\\dev\\lib\\site-packages (from gradio) (2.1.1)\n",
            "Requirement already satisfied: matplotlib~=3.0 in c:\\users\\owner\\anaconda3\\envs\\dev\\lib\\site-packages (from gradio) (3.9.0)\n",
            "Requirement already satisfied: numpy<3.0,>=1.0 in c:\\users\\owner\\anaconda3\\envs\\dev\\lib\\site-packages (from gradio) (1.24.3)\n",
            "Requirement already satisfied: orjson~=3.0 in c:\\users\\owner\\anaconda3\\envs\\dev\\lib\\site-packages (from gradio) (3.10.6)\n",
            "Requirement already satisfied: packaging in c:\\users\\owner\\anaconda3\\envs\\dev\\lib\\site-packages (from gradio) (23.2)\n",
            "Requirement already satisfied: pandas<3.0,>=1.0 in c:\\users\\owner\\anaconda3\\envs\\dev\\lib\\site-packages (from gradio) (2.0.3)\n",
            "Requirement already satisfied: pillow<11.0,>=8.0 in c:\\users\\owner\\anaconda3\\envs\\dev\\lib\\site-packages (from gradio) (9.4.0)\n",
            "Requirement already satisfied: pydantic>=2.0 in c:\\users\\owner\\anaconda3\\envs\\dev\\lib\\site-packages (from gradio) (2.8.0)\n",
            "Requirement already satisfied: pydub in c:\\users\\owner\\anaconda3\\envs\\dev\\lib\\site-packages (from gradio) (0.25.1)\n",
            "Requirement already satisfied: python-multipart>=0.0.9 in c:\\users\\owner\\anaconda3\\envs\\dev\\lib\\site-packages (from gradio) (0.0.9)\n",
            "Requirement already satisfied: pyyaml<7.0,>=5.0 in c:\\users\\owner\\anaconda3\\envs\\dev\\lib\\site-packages (from gradio) (6.0)\n",
            "Requirement already satisfied: ruff>=0.2.2 in c:\\users\\owner\\anaconda3\\envs\\dev\\lib\\site-packages (from gradio) (0.5.1)\n",
            "Requirement already satisfied: semantic-version~=2.0 in c:\\users\\owner\\anaconda3\\envs\\dev\\lib\\site-packages (from gradio) (2.10.0)\n",
            "Requirement already satisfied: tomlkit==0.12.0 in c:\\users\\owner\\anaconda3\\envs\\dev\\lib\\site-packages (from gradio) (0.12.0)\n",
            "Requirement already satisfied: typer<1.0,>=0.12 in c:\\users\\owner\\anaconda3\\envs\\dev\\lib\\site-packages (from gradio) (0.12.3)\n",
            "Requirement already satisfied: typing-extensions~=4.0 in c:\\users\\owner\\anaconda3\\envs\\dev\\lib\\site-packages (from gradio) (4.12.2)\n",
            "Requirement already satisfied: urllib3~=2.0 in c:\\users\\owner\\anaconda3\\envs\\dev\\lib\\site-packages (from gradio) (2.2.2)\n",
            "Requirement already satisfied: uvicorn>=0.14.0 in c:\\users\\owner\\anaconda3\\envs\\dev\\lib\\site-packages (from gradio) (0.30.1)\n",
            "Requirement already satisfied: fsspec in c:\\users\\owner\\anaconda3\\envs\\dev\\lib\\site-packages (from gradio-client==1.0.2->gradio) (2024.6.1)\n",
            "Requirement already satisfied: websockets<12.0,>=10.0 in c:\\users\\owner\\anaconda3\\envs\\dev\\lib\\site-packages (from gradio-client==1.0.2->gradio) (11.0.3)\n",
            "Requirement already satisfied: jsonschema>=3.0 in c:\\users\\owner\\anaconda3\\envs\\dev\\lib\\site-packages (from altair<6.0,>=4.2.0->gradio) (4.23.0)\n",
            "Requirement already satisfied: toolz in c:\\users\\owner\\anaconda3\\envs\\dev\\lib\\site-packages (from altair<6.0,>=4.2.0->gradio) (0.12.0)\n",
            "Requirement already satisfied: anyio in c:\\users\\owner\\anaconda3\\envs\\dev\\lib\\site-packages (from httpx>=0.24.1->gradio) (3.5.0)\n",
            "Requirement already satisfied: certifi in c:\\users\\owner\\anaconda3\\envs\\dev\\lib\\site-packages (from httpx>=0.24.1->gradio) (2024.7.4)\n",
            "Requirement already satisfied: httpcore==1.* in c:\\users\\owner\\anaconda3\\envs\\dev\\lib\\site-packages (from httpx>=0.24.1->gradio) (1.0.5)\n",
            "Requirement already satisfied: idna in c:\\users\\owner\\anaconda3\\envs\\dev\\lib\\site-packages (from httpx>=0.24.1->gradio) (3.4)\n",
            "Requirement already satisfied: sniffio in c:\\users\\owner\\anaconda3\\envs\\dev\\lib\\site-packages (from httpx>=0.24.1->gradio) (1.2.0)\n",
            "Requirement already satisfied: h11<0.15,>=0.13 in c:\\users\\owner\\anaconda3\\envs\\dev\\lib\\site-packages (from httpcore==1.*->httpx>=0.24.1->gradio) (0.14.0)\n",
            "Requirement already satisfied: filelock in c:\\users\\owner\\anaconda3\\envs\\dev\\lib\\site-packages (from huggingface-hub>=0.19.3->gradio) (3.9.0)\n",
            "Requirement already satisfied: requests in c:\\users\\owner\\anaconda3\\envs\\dev\\lib\\site-packages (from huggingface-hub>=0.19.3->gradio) (2.31.0)\n",
            "Requirement already satisfied: tqdm>=4.42.1 in c:\\users\\owner\\anaconda3\\envs\\dev\\lib\\site-packages (from huggingface-hub>=0.19.3->gradio) (4.65.0)\n",
            "Requirement already satisfied: contourpy>=1.0.1 in c:\\users\\owner\\anaconda3\\envs\\dev\\lib\\site-packages (from matplotlib~=3.0->gradio) (1.2.1)\n",
            "Requirement already satisfied: cycler>=0.10 in c:\\users\\owner\\anaconda3\\envs\\dev\\lib\\site-packages (from matplotlib~=3.0->gradio) (0.11.0)\n",
            "Requirement already satisfied: fonttools>=4.22.0 in c:\\users\\owner\\anaconda3\\envs\\dev\\lib\\site-packages (from matplotlib~=3.0->gradio) (4.25.0)\n",
            "Requirement already satisfied: kiwisolver>=1.3.1 in c:\\users\\owner\\anaconda3\\envs\\dev\\lib\\site-packages (from matplotlib~=3.0->gradio) (1.4.4)\n",
            "Requirement already satisfied: pyparsing>=2.3.1 in c:\\users\\owner\\anaconda3\\envs\\dev\\lib\\site-packages (from matplotlib~=3.0->gradio) (3.0.9)\n",
            "Requirement already satisfied: python-dateutil>=2.7 in c:\\users\\owner\\anaconda3\\envs\\dev\\lib\\site-packages (from matplotlib~=3.0->gradio) (2.8.2)\n",
            "Requirement already satisfied: pytz>=2020.1 in c:\\users\\owner\\anaconda3\\envs\\dev\\lib\\site-packages (from pandas<3.0,>=1.0->gradio) (2023.3.post1)\n",
            "Requirement already satisfied: tzdata>=2022.1 in c:\\users\\owner\\anaconda3\\envs\\dev\\lib\\site-packages (from pandas<3.0,>=1.0->gradio) (2023.3)\n",
            "Requirement already satisfied: annotated-types>=0.4.0 in c:\\users\\owner\\anaconda3\\envs\\dev\\lib\\site-packages (from pydantic>=2.0->gradio) (0.7.0)\n",
            "Collecting pydantic-core==2.20.0 (from pydantic>=2.0->gradio)\n",
            "  Obtaining dependency information for pydantic-core==2.20.0 from https://files.pythonhosted.org/packages/9d/ca/7ab0e4bc6a446f739e1d2da64eb013f8ed62971991a69a416f00c5c7f63c/pydantic_core-2.20.0-cp310-none-win_amd64.whl.metadata\n",
            "  Using cached pydantic_core-2.20.0-cp310-none-win_amd64.whl.metadata (6.7 kB)\n",
            "Requirement already satisfied: click>=8.0.0 in c:\\users\\owner\\anaconda3\\envs\\dev\\lib\\site-packages (from typer<1.0,>=0.12->gradio) (8.0.4)\n",
            "Requirement already satisfied: shellingham>=1.3.0 in c:\\users\\owner\\anaconda3\\envs\\dev\\lib\\site-packages (from typer<1.0,>=0.12->gradio) (1.5.4)\n",
            "Requirement already satisfied: rich>=10.11.0 in c:\\users\\owner\\anaconda3\\envs\\dev\\lib\\site-packages (from typer<1.0,>=0.12->gradio) (13.7.1)\n",
            "Requirement already satisfied: starlette<0.38.0,>=0.37.2 in c:\\users\\owner\\anaconda3\\envs\\dev\\lib\\site-packages (from fastapi->gradio) (0.37.2)\n",
            "Requirement already satisfied: fastapi-cli>=0.0.2 in c:\\users\\owner\\anaconda3\\envs\\dev\\lib\\site-packages (from fastapi->gradio) (0.0.4)\n",
            "Requirement already satisfied: ujson!=4.0.2,!=4.1.0,!=4.2.0,!=4.3.0,!=5.0.0,!=5.1.0,>=4.0.1 in c:\\users\\owner\\anaconda3\\envs\\dev\\lib\\site-packages (from fastapi->gradio) (5.4.0)\n",
            "Requirement already satisfied: email_validator>=2.0.0 in c:\\users\\owner\\anaconda3\\envs\\dev\\lib\\site-packages (from fastapi->gradio) (2.2.0)\n",
            "Requirement already satisfied: colorama in c:\\users\\owner\\anaconda3\\envs\\dev\\lib\\site-packages (from click>=8.0.0->typer<1.0,>=0.12->gradio) (0.4.6)\n",
            "Requirement already satisfied: dnspython>=2.0.0 in c:\\users\\owner\\anaconda3\\envs\\dev\\lib\\site-packages (from email_validator>=2.0.0->fastapi->gradio) (2.6.1)\n",
            "Requirement already satisfied: attrs>=22.2.0 in c:\\users\\owner\\anaconda3\\envs\\dev\\lib\\site-packages (from jsonschema>=3.0->altair<6.0,>=4.2.0->gradio) (23.2.0)\n",
            "Requirement already satisfied: jsonschema-specifications>=2023.03.6 in c:\\users\\owner\\anaconda3\\envs\\dev\\lib\\site-packages (from jsonschema>=3.0->altair<6.0,>=4.2.0->gradio) (2023.12.1)\n",
            "Requirement already satisfied: referencing>=0.28.4 in c:\\users\\owner\\anaconda3\\envs\\dev\\lib\\site-packages (from jsonschema>=3.0->altair<6.0,>=4.2.0->gradio) (0.35.1)\n",
            "Requirement already satisfied: rpds-py>=0.7.1 in c:\\users\\owner\\anaconda3\\envs\\dev\\lib\\site-packages (from jsonschema>=3.0->altair<6.0,>=4.2.0->gradio) (0.19.0)\n",
            "Requirement already satisfied: six>=1.5 in c:\\users\\owner\\anaconda3\\envs\\dev\\lib\\site-packages (from python-dateutil>=2.7->matplotlib~=3.0->gradio) (1.16.0)\n",
            "Requirement already satisfied: markdown-it-py>=2.2.0 in c:\\users\\owner\\anaconda3\\envs\\dev\\lib\\site-packages (from rich>=10.11.0->typer<1.0,>=0.12->gradio) (2.2.0)\n",
            "Requirement already satisfied: pygments<3.0.0,>=2.13.0 in c:\\users\\owner\\anaconda3\\envs\\dev\\lib\\site-packages (from rich>=10.11.0->typer<1.0,>=0.12->gradio) (2.15.1)\n",
            "Requirement already satisfied: httptools>=0.5.0 in c:\\users\\owner\\anaconda3\\envs\\dev\\lib\\site-packages (from uvicorn>=0.14.0->gradio) (0.6.1)\n",
            "Requirement already satisfied: python-dotenv>=0.13 in c:\\users\\owner\\anaconda3\\envs\\dev\\lib\\site-packages (from uvicorn>=0.14.0->gradio) (1.0.1)\n",
            "Requirement already satisfied: watchfiles>=0.13 in c:\\users\\owner\\anaconda3\\envs\\dev\\lib\\site-packages (from uvicorn>=0.14.0->gradio) (0.22.0)\n",
            "Requirement already satisfied: charset-normalizer<4,>=2 in c:\\users\\owner\\anaconda3\\envs\\dev\\lib\\site-packages (from requests->huggingface-hub>=0.19.3->gradio) (2.0.4)\n",
            "Requirement already satisfied: mdurl~=0.1 in c:\\users\\owner\\anaconda3\\envs\\dev\\lib\\site-packages (from markdown-it-py>=2.2.0->rich>=10.11.0->typer<1.0,>=0.12->gradio) (0.1.0)\n",
            "Using cached pydantic_core-2.20.0-cp310-none-win_amd64.whl (1.9 MB)\n",
            "Installing collected packages: pydantic-core\n",
            "  Attempting uninstall: pydantic-core\n",
            "    Found existing installation: pydantic_core 2.20.1\n",
            "    Uninstalling pydantic_core-2.20.1:\n",
            "      Successfully uninstalled pydantic_core-2.20.1\n",
            "Successfully installed pydantic-core-2.20.0\n"
          ]
        }
      ],
      "source": [
        "! pip install gradio"
      ]
    },
    {
      "cell_type": "code",
      "execution_count": 2,
      "metadata": {
        "id": "Fhi7WYy4y_Ow"
      },
      "outputs": [],
      "source": [
        "# Import pandas\n",
        "import pandas as pd\n",
        "# Import the required dependencies from sklearn\n",
        "from sklearn.model_selection import train_test_split\n",
        "from sklearn.pipeline import Pipeline\n",
        "from sklearn.feature_extraction.text import TfidfVectorizer\n",
        "from sklearn.svm import LinearSVC\n",
        "\n",
        "# Set the column width to view the text message data.\n",
        "pd.set_option('max_colwidth', 200)\n",
        "\n",
        "# Import Gradio\n",
        "import gradio as gr"
      ]
    },
    {
      "cell_type": "code",
      "execution_count": 3,
      "metadata": {
        "id": "dE2q5AEby_Oy"
      },
      "outputs": [],
      "source": [
        "from os import pipe\n",
        "def sms_classification(sms_text_df):\n",
        "    \"\"\"\n",
        "    Perform SMS classification using a pipeline with TF-IDF vectorization and Linear Support Vector Classification.\n",
        "\n",
        "    Parameters:\n",
        "    - sms_text_df (pd.DataFrame): DataFrame containing 'text_message' and 'label' columns for SMS classification.\n",
        "\n",
        "    Returns:\n",
        "    - text_clf (Pipeline): Fitted pipeline model for SMS classification.\n",
        "\n",
        "    This function takes a DataFrame with 'text_message' and 'label' columns, splits the data into\n",
        "    training and testing sets, builds a pipeline with TF-IDF vectorization and Linear Support Vector\n",
        "    Classification, and fits the model to the training data.\n",
        "    The fitted pipeline is returned to make future predictions.\n",
        "    \"\"\"\n",
        "    # Set the features variable to the text message column.\n",
        "    X = sms_text_df['text_message']\n",
        "    # Set the target variable to the \"label\" column.\n",
        "    y = sms_text_df['label']\n",
        "\n",
        "    # Split data into training and testing and set the test_size = 33%\n",
        "    X_train, X_test, y_train, y_test = train_test_split(X, y, test_size=0.33, random_state=42)\n",
        "\n",
        "    # Build a pipeline to transform the test set to compare to the training set.\n",
        "    pipeline = Pipeline([\n",
        "        ('tfidf', TfidfVectorizer()),\n",
        "        ('clf', LinearSVC())\n",
        "    ])\n",
        "\n",
        "    # Fit the model to the transformed training data and return model.\n",
        "    model=pipeline.fit(X_train, y_train)\n",
        "    return model"
      ]
    },
    {
      "cell_type": "code",
      "execution_count": 4,
      "metadata": {
        "colab": {
          "base_uri": "https://localhost:8080/",
          "height": 356
        },
        "id": "K6ATAL9Yy_Oy",
        "outputId": "c44e4d3f-80ca-4d86-e0df-5359b7b3fde6"
      },
      "outputs": [
        {
          "data": {
            "text/html": [
              "<div>\n",
              "<style scoped>\n",
              "    .dataframe tbody tr th:only-of-type {\n",
              "        vertical-align: middle;\n",
              "    }\n",
              "\n",
              "    .dataframe tbody tr th {\n",
              "        vertical-align: top;\n",
              "    }\n",
              "\n",
              "    .dataframe thead th {\n",
              "        text-align: right;\n",
              "    }\n",
              "</style>\n",
              "<table border=\"1\" class=\"dataframe\">\n",
              "  <thead>\n",
              "    <tr style=\"text-align: right;\">\n",
              "      <th></th>\n",
              "      <th>label</th>\n",
              "      <th>text_message</th>\n",
              "    </tr>\n",
              "  </thead>\n",
              "  <tbody>\n",
              "    <tr>\n",
              "      <th>0</th>\n",
              "      <td>ham</td>\n",
              "      <td>Go until jurong point, crazy.. Available only in bugis n great world la e buffet... Cine there got amore wat...</td>\n",
              "    </tr>\n",
              "    <tr>\n",
              "      <th>1</th>\n",
              "      <td>ham</td>\n",
              "      <td>Ok lar... Joking wif u oni...</td>\n",
              "    </tr>\n",
              "    <tr>\n",
              "      <th>2</th>\n",
              "      <td>spam</td>\n",
              "      <td>Free entry in 2 a wkly comp to win FA Cup final tkts 21st May 2005. Text FA to 87121 to receive entry question(std txt rate)T&amp;C's apply 08452810075over18's</td>\n",
              "    </tr>\n",
              "    <tr>\n",
              "      <th>3</th>\n",
              "      <td>ham</td>\n",
              "      <td>U dun say so early hor... U c already then say...</td>\n",
              "    </tr>\n",
              "    <tr>\n",
              "      <th>4</th>\n",
              "      <td>ham</td>\n",
              "      <td>Nah I don't think he goes to usf, he lives around here though</td>\n",
              "    </tr>\n",
              "  </tbody>\n",
              "</table>\n",
              "</div>"
            ],
            "text/plain": [
              "  label  \\\n",
              "0   ham   \n",
              "1   ham   \n",
              "2  spam   \n",
              "3   ham   \n",
              "4   ham   \n",
              "\n",
              "                                                                                                                                                  text_message  \n",
              "0                                              Go until jurong point, crazy.. Available only in bugis n great world la e buffet... Cine there got amore wat...  \n",
              "1                                                                                                                                Ok lar... Joking wif u oni...  \n",
              "2  Free entry in 2 a wkly comp to win FA Cup final tkts 21st May 2005. Text FA to 87121 to receive entry question(std txt rate)T&C's apply 08452810075over18's  \n",
              "3                                                                                                            U dun say so early hor... U c already then say...  \n",
              "4                                                                                                Nah I don't think he goes to usf, he lives around here though  "
            ]
          },
          "execution_count": 4,
          "metadata": {},
          "output_type": "execute_result"
        }
      ],
      "source": [
        "# Load the dataset into a DataFrame\n",
        "sms_text_df = pd.read_csv('Resources/SMSSpamCollection.csv')\n",
        "\n",
        "# Display the first 5 rows of the DataFrame\n",
        "sms_text_df.head()"
      ]
    },
    {
      "cell_type": "code",
      "execution_count": 5,
      "metadata": {
        "id": "4AER83Fhy_Oz"
      },
      "outputs": [],
      "source": [
        "# Call the sms_classification function with the DataFrame and set the result to the \"text_clf\" variable\n",
        "text_clf = sms_classification"
      ]
    },
    {
      "cell_type": "code",
      "execution_count": 6,
      "metadata": {
        "id": "Nj241V-By_Oz"
      },
      "outputs": [],
      "source": [
        "# Create a function called `sms_prediction` that takes in the SMS text and predicts the whether the text is \"not spam\" or \"spam\".\n",
        "# The function should return the SMS message, and say whether the text is \"not spam\" or \"spam\".\n",
        "def sms_prediction(text):\n",
        "    \"\"\"\n",
        "    Predict the spam/ham classification of a given text message using a pre-trained model.\n",
        "\n",
        "    Parameters:\n",
        "    - text (str): The text message to be classified.\n",
        "\n",
        "    Returns:\n",
        "    - str: A message indicating whether the text message is classified as spam or not.\n",
        "\n",
        "    This function takes a text message and a pre-trained pipeline model, then predicts the\n",
        "    spam/ham classification of the text. The result is a message stating whether the text is\n",
        "    classified as spam or not.\n",
        "    \"\"\"\n",
        "    # Create a variable that will hold the prediction of a new text.\n",
        "    text_prediction = text_clf.predict([text])\n",
        "\n",
        "    # Create a conditional if the prediction is \"ham\" return the message:\n",
        "    # f'The text message: \"{text}\", is not spam.' Else, return f'The text message: \"{text}\", is spam.'\n",
        "    # Using a conditional if the prediction is \"ham\" return the message:\n",
        "    # f'The text message: \"{text}\", is not spam.' Else, return f'The text message: \"{text}\", is spam.'\n",
        "\n",
        "    if text_prediction == 'ham':\n",
        "        return f'The text message: \"{text}\", is not spam.'\n",
        "    else:\n",
        "        return f'The text message: \"{text}\", is spam.'\n"
      ]
    },
    {
      "cell_type": "code",
      "execution_count": 9,
      "metadata": {
        "colab": {
          "base_uri": "https://localhost:8080/",
          "height": 332
        },
        "id": "mS8BzTBqy_Oz",
        "outputId": "7c6fbaf4-7704-4313-a905-c40633ed0bc2"
      },
      "outputs": [
        {
          "name": "stdout",
          "output_type": "stream",
          "text": [
            "Running on local URL:  http://127.0.0.1:7861\n",
            "Running on public URL: https://37b5f0b83ba20e7d96.gradio.live\n",
            "\n",
            "This share link expires in 72 hours. For free permanent hosting and GPU upgrades, run `gradio deploy` from Terminal to deploy to Spaces (https://huggingface.co/spaces)\n"
          ]
        },
        {
          "data": {
            "text/html": [
              "<div><iframe src=\"https://37b5f0b83ba20e7d96.gradio.live\" width=\"100%\" height=\"500\" allow=\"autoplay; camera; microphone; clipboard-read; clipboard-write;\" frameborder=\"0\" allowfullscreen></iframe></div>"
            ],
            "text/plain": [
              "<IPython.core.display.HTML object>"
            ]
          },
          "metadata": {},
          "output_type": "display_data"
        },
        {
          "data": {
            "text/plain": []
          },
          "execution_count": 9,
          "metadata": {},
          "output_type": "execute_result"
        }
      ],
      "source": [
        "# Create a sms_app that takes a textbox for the inputs and has a textbox for the output.\n",
        "# Povide labels for each textbox.\n",
        "app = gr.Interface(fn=sms_prediction,\n",
        "                   inputs = gr.Textbox(label=\"What is the text you want to evaluate?\"),\n",
        "                   outputs= gr.Textbox(lines=5, label=\"Our App has determined: \", show_copy_button=True))\n",
        "\n",
        "# Launch the app.\n",
        "app.launch(show_error=True, share=True)"
      ]
    },
    {
      "cell_type": "markdown",
      "metadata": {
        "id": "hZub_tyGy_O0"
      },
      "source": [
        "## Test the following text messages.\n",
        "\n",
        "---\n",
        "\n",
        "1. You are a lucky winner of $5000!\n",
        "2. You won 2 free tickets to the Super Bowl.\n",
        "3. You won 2 free tickets to the Super Bowl text us to claim your prize.\n",
        "4. Thanks for registering. Text 4343 to receive free updates on medicare."
      ]
    },
    {
      "cell_type": "code",
      "execution_count": null,
      "metadata": {
        "id": "xL-l8H8ay_O0"
      },
      "outputs": [],
      "source": []
    }
  ],
  "metadata": {
    "colab": {
      "provenance": []
    },
    "kernelspec": {
      "display_name": "Python 3 (ipykernel)",
      "language": "python",
      "name": "python3"
    },
    "language_info": {
      "codemirror_mode": {
        "name": "ipython",
        "version": 3
      },
      "file_extension": ".py",
      "mimetype": "text/x-python",
      "name": "python",
      "nbconvert_exporter": "python",
      "pygments_lexer": "ipython3",
      "version": "3.10.13"
    }
  },
  "nbformat": 4,
  "nbformat_minor": 0
}
